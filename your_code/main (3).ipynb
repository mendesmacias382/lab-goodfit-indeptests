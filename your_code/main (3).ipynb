{
  "cells": [
    {
      "cell_type": "markdown",
      "metadata": {
        "id": "lk3TQ3OMTeYY"
      },
      "source": [
        "## Question 1\n",
        "The following table indicates the number of 6-point scores in an American rugby match in the 1979 season.\n",
        "\n",
        "![](table1.png)\n",
        "\n",
        "Based on these results, we create a Poisson distribution with the sample mean parameter  = 2.435. Is there any reason to believe that at a .05 level the number of scores is a Poisson variable?"
      ]
    },
    {
      "cell_type": "code",
      "execution_count": 1,
      "metadata": {
        "colab": {
          "base_uri": "https://localhost:8080/"
        },
        "id": "zTEfVCt0TeYb",
        "outputId": "05fdba1a-416a-4a34-9933-27ad007461b9"
      },
      "outputs": [
        {
          "output_type": "execute_result",
          "data": {
            "text/plain": [
              "Power_divergenceResult(statistic=191.93184027673232, pvalue=5.85583627060059e-38)"
            ]
          },
          "metadata": {},
          "execution_count": 1
        }
      ],
      "source": [
        "# your answer here\n",
        "\n",
        "from scipy.stats import poisson\n",
        "from scipy.stats import chisquare\n",
        "import numpy as np\n",
        "f_obs = np.array([35,99,104,110,62,25,10,3])\n",
        "mean = 2.435\n",
        "poisson_dist = poisson(mean)\n",
        "poisson_pmfs = np.array([poisson_dist.pmf(i) for i in range(1,8)])\n",
        "poisson_pmfs\n",
        "with_tail = np.append(poisson_pmfs,1- poisson_pmfs.sum())\n",
        "with_tail\n",
        "f_exp = with_tail*448\n",
        "f_exp\n",
        "chisquare(f_exp = f_exp, f_obs = f_obs)"
      ]
    },
    {
      "cell_type": "code",
      "source": [
        "5.85583627060059e-38 < 0.05"
      ],
      "metadata": {
        "colab": {
          "base_uri": "https://localhost:8080/"
        },
        "id": "s_cRBCkjT2_U",
        "outputId": "c021f839-19a9-4e5a-9bb2-3a3d84021017"
      },
      "execution_count": 2,
      "outputs": [
        {
          "output_type": "execute_result",
          "data": {
            "text/plain": [
              "True"
            ]
          },
          "metadata": {},
          "execution_count": 2
        }
      ]
    },
    {
      "cell_type": "markdown",
      "metadata": {
        "id": "fLXF4sh2TeYd"
      },
      "source": [
        "## BONUS/OPTIONAL - Question 2\n",
        "Let's analyze a discrete distribution. To analyze the number of defective items in a factory in the city of Medellín, we took a random sample of n = 60 articles and observed the number of defectives in the following table:\n",
        "\n",
        "![](table2.png)\n",
        "\n",
        "A poissón distribution was proposed since it is defined for x = 0,1,2,3, .... using the following model:\n",
        "\n",
        "![](image1.png)\n",
        "\n",
        "For some extra insights check the following link: https://online.stat.psu.edu/stat504/node/63/\n",
        "\n",
        "Does the distribution of defective items follow this distribution?"
      ]
    },
    {
      "cell_type": "code",
      "execution_count": null,
      "metadata": {
        "id": "k0Si4IPRTeYd"
      },
      "outputs": [],
      "source": [
        "# your code here"
      ]
    },
    {
      "cell_type": "markdown",
      "metadata": {
        "id": "D6G9yoejTeYe"
      },
      "source": [
        "## Question 3\n",
        "A quality control engineer takes a sample of 10 tires that come out of an assembly line, and would like to verify on the basis of the data that follows, if the number of tires with defects observed over 200 days, if it is true that 5% of all tires have defects (that is, if the sample comes from a binomial population with n = 10 and p = 0.05).\n",
        "\n",
        "![](table3.png)\n"
      ]
    },
    {
      "cell_type": "code",
      "execution_count": 3,
      "metadata": {
        "colab": {
          "base_uri": "https://localhost:8080/"
        },
        "id": "e3HTyomaTeYe",
        "outputId": "9c6fe54c-6177-453d-dc20-cb01f30a5e05"
      },
      "outputs": [
        {
          "output_type": "execute_result",
          "data": {
            "text/plain": [
              "Power_divergenceResult(statistic=336.43955678670346, pvalue=8.771593494342627e-74)"
            ]
          },
          "metadata": {},
          "execution_count": 3
        }
      ],
      "source": [
        "# your answer here\n",
        "\n",
        "from scipy.stats import chisquare\n",
        "\n",
        "observed_frequencies = [138, 53, 9]\n",
        "expected_proportion = 0.05\n",
        "total_samples = 200\n",
        "categories = 3\n",
        "\n",
        "expected_probabilities = [expected_proportion**i * (1 - expected_proportion)**(categories - i) for i in range(categories)]\n",
        "\n",
        "expected_frequencies = [total_samples * prob for prob in expected_probabilities]\n",
        "\n",
        "expected_frequencies_adjusted = [freq * (total_samples / sum(expected_frequencies)) for freq in expected_frequencies]\n",
        "\n",
        "chisquare(f_obs=observed_frequencies, f_exp=expected_frequencies_adjusted)"
      ]
    },
    {
      "cell_type": "markdown",
      "metadata": {
        "id": "LbRlAnUDTeYe"
      },
      "source": [
        "## Question 4\n",
        "A researcher gathers information about the patterns of Physical Activity of children in the fifth grade of primary school of a public school. He defines three categories of physical activity (Low, Medium, High). He also inquires about the regular consumption of sugary drinks at school, and defines two categories (Yes = consumed, No = not consumed). We would like to evaluate if there is an association between patterns of physical activity and the consumption of sugary drinks for the children of this school, at a level of 5% significance. The results are in the following table:\n",
        "\n",
        "![](table4.png)"
      ]
    },
    {
      "cell_type": "code",
      "execution_count": 4,
      "metadata": {
        "colab": {
          "base_uri": "https://localhost:8080/"
        },
        "id": "WRBZYPJ6TeYf",
        "outputId": "3a7e27a7-eb9c-4ff9-9948-785d60b97e66"
      },
      "outputs": [
        {
          "output_type": "execute_result",
          "data": {
            "text/plain": [
              "0.0047192801370408155"
            ]
          },
          "metadata": {},
          "execution_count": 4
        }
      ],
      "source": [
        "#your answer here\n",
        "import numpy as np\n",
        "from scipy.stats import chi2\n",
        "f_obs = np.array([[32, 12], [14, 22], [6, 9]])\n",
        "\n",
        "row_totals = [44,36,15]\n",
        "col_totals = [52,43]\n",
        "grand_total = [95]\n",
        "\n",
        "f_exp = np.outer(row_totals, col_totals) / grand_total\n",
        "\n",
        "chi2_statistic = np.sum((f_obs - f_exp)**2 / f_exp)\n",
        "\n",
        "degrees_of_freedom = (f_obs.shape[0] - 1) * (f_obs.shape[1] - 1)\n",
        "\n",
        "p_value = 1 - chi2.cdf(chi2_statistic, degrees_of_freedom)\n",
        "p_value"
      ]
    },
    {
      "cell_type": "code",
      "source": [
        "0.0047192801370408155 < 0.05"
      ],
      "metadata": {
        "id": "opMzIGcfUH6R",
        "outputId": "e08ab439-e8ab-4b96-e50c-7eb5f71a0622",
        "colab": {
          "base_uri": "https://localhost:8080/"
        }
      },
      "execution_count": 5,
      "outputs": [
        {
          "output_type": "execute_result",
          "data": {
            "text/plain": [
              "True"
            ]
          },
          "metadata": {},
          "execution_count": 5
        }
      ]
    }
  ],
  "metadata": {
    "kernelspec": {
      "display_name": "Python 3",
      "language": "python",
      "name": "python3"
    },
    "language_info": {
      "codemirror_mode": {
        "name": "ipython",
        "version": 3
      },
      "file_extension": ".py",
      "mimetype": "text/x-python",
      "name": "python",
      "nbconvert_exporter": "python",
      "pygments_lexer": "ipython3",
      "version": "3.8.3"
    },
    "colab": {
      "provenance": []
    }
  },
  "nbformat": 4,
  "nbformat_minor": 0
}